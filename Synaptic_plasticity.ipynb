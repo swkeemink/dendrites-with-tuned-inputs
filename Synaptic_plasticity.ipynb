{
 "cells": [
  {
   "cell_type": "markdown",
   "metadata": {
    "collapsed": true,
    "pycharm": {
     "name": "#%% md\n"
    }
   },
   "source": [
    "# Synaptic plasticity in Brian\n",
    "\n",
    "In this example, we will observe the behavior of a single (point) neuron driven by excitatory and inhibitory input mediated by plastic synapses.\n",
    "* Neuron model - standard LIF neuron\n",
    "* Synapse model - eSTDP [additive, doublet STDP](), iSTDP [symmetric, doublet STDP]()"
   ]
  },
  {
   "cell_type": "code",
   "execution_count": 1,
   "outputs": [],
   "source": [
    "from brian2 import *"
   ],
   "metadata": {
    "collapsed": false,
    "pycharm": {
     "name": "#%%\n"
    }
   }
  },
  {
   "cell_type": "code",
   "execution_count": 2,
   "outputs": [],
   "source": [
    "# #############################################################################################\n",
    "# Parameters\n",
    "# =============================================================================================\n",
    "# simulation\n",
    "dt = 0.1*ms                  # simulation resolution\n",
    "sim_time = 10*second        # total simulation time\n",
    "\n",
    "# input populations\n",
    "nE = 8000                   # number of excitatory neurons\n",
    "nI = nE / 4                 # number of inhibitory neurons\n",
    "rE = 5*Hz                   # excitatory input firing rate\n",
    "rI = 5*Hz                   # inhibitory input firing rate\n",
    "\n",
    "# input synapses\n",
    "tau_ampa = 5.0*ms           # excitatory (AMPA) synapse time constant\n",
    "tau_gaba = 10.0*ms          # inhibitory (GABAa) synapse time constant\n",
    "pE = 0.1                    # excitatory synaptic density\n",
    "pI = 0.1                    # inhibitory synaptic density\n",
    "# iSDP\n",
    "tau_stdp_i = 20*ms          # iSTDP time constant\n",
    "alpha = 3*Hz*tau_stdp_i*2   # Target rate parameter (iSTDP)\n",
    "gmax = 100                  # Maximum weight (exc/inh)\n",
    "eta = 1e-2                  # inhibitory learning rate TOp_eDO add exc\n",
    "# eSTDP\n",
    "gmaxE = 0.01\n",
    "tau_stdp_e = 20*ms          # eSTDP time constant\n",
    "dApre = 0.01                #\n",
    "dApost = -dApre * tau_stdp_e / tau_stdp_e * 1.05  # allow asymmetric tau\n",
    "dApost *= gmaxE\n",
    "dApre *= gmaxE\n",
    "\n",
    "# neuron\n",
    "gl = 10.0*nsiemens          # Leak conductance\n",
    "el = -60*mV                 # Resting potential\n",
    "vr = -70*mV                 # Reset potential\n",
    "er = -80*mV                 # Inhibitory reversal potential\n",
    "vt = -50.*mV                # Spiking threshold\n",
    "memc = 200.0*pfarad         # Membrane capacitance\n",
    "bgcurrent = 200*pA          # External (bias) current"
   ],
   "metadata": {
    "collapsed": false,
    "pycharm": {
     "name": "#%%\n"
    }
   }
  },
  {
   "cell_type": "code",
   "execution_count": 3,
   "outputs": [],
   "source": [
    "# neuron model\n",
    "eqs_neurons='''\n",
    "dv/dt = (-gl * (v-el) - (g_ampa * v + g_gaba * (v-er)) + bgcurrent) / memc : volt (unless refractory)\n",
    "dg_ampa/dt = -g_ampa/tau_ampa : siemens\n",
    "dg_gaba/dt = -g_gaba/tau_gaba : siemens\n",
    "'''"
   ],
   "metadata": {
    "collapsed": false,
    "pycharm": {
     "name": "#%%\n"
    }
   }
  },
  {
   "cell_type": "code",
   "execution_count": 4,
   "outputs": [],
   "source": [
    "# synapse models\n",
    "eqs_stdp_inhib = '''\n",
    "w : 1\n",
    "dApre/dt = -Apre / tau_stdp_i : 1 (event-driven)\n",
    "dApost/dt = -Apost / tau_stdp_i : 1 (event-driven)\n",
    "'''\n",
    "eqs_stdp_exc = '''\n",
    "w : 1\n",
    "dApre/dt = -Apre / tau_stdp_e : 1 (event-driven)\n",
    "dApost/dt = -Apost / tau_stdp_e : 1 (event-driven)\n",
    "'''"
   ],
   "metadata": {
    "collapsed": false,
    "pycharm": {
     "name": "#%%\n"
    }
   }
  },
  {
   "cell_type": "code",
   "execution_count": 5,
   "outputs": [],
   "source": [
    "defaultclock.dt = dt"
   ],
   "metadata": {
    "collapsed": false,
    "pycharm": {
     "name": "#%%\n"
    }
   }
  },
  {
   "cell_type": "code",
   "execution_count": 6,
   "outputs": [],
   "source": [
    "# Create populations\n",
    "exc_poisson_input = PoissonGroup(nE, rates=rE)\n",
    "inh_poisson_input = PoissonGroup(nI, rates=rI)\n",
    "target_neuron = NeuronGroup(1, eqs_neurons, threshold='v>vt', reset='v = vr', refractory=2*ms, method='euler')"
   ],
   "metadata": {
    "collapsed": false,
    "pycharm": {
     "name": "#%%\n"
    }
   }
  },
  {
   "cell_type": "code",
   "execution_count": 7,
   "outputs": [],
   "source": [
    "# Connect\n",
    "con_e = Synapses(exc_poisson_input, target_neuron, model=eqs_stdp_exc,\n",
    "                 on_pre='''g_ampa += w*nS\n",
    "                    Apre += dApre\n",
    "                    w = clip(w + Apost, 0, gmax)''',\n",
    "                 on_post='''Apost += dApost\n",
    "                     w = clip(w + Apre, 0, gmax)''',)\n",
    "con_i = Synapses(inh_poisson_input, target_neuron, model=eqs_stdp_inhib,\n",
    "                 on_pre='''Apre += 1.\n",
    "                         w = clip(w + (Apost-alpha) * eta, 0, gmax)\n",
    "                         g_gaba += w*nS''',\n",
    "                 on_post='''Apost += 1.\n",
    "                          w = clip(w + Apre*eta, 0, gmax)''',)\n",
    "\n",
    "con_e.connect(p=pE)\n",
    "con_i.connect(p=pI)\n",
    "\n",
    "con_e.w = 'rand() * gmax'\n",
    "con_i.w = 'rand() * gmax'"
   ],
   "metadata": {
    "collapsed": false,
    "pycharm": {
     "name": "#%%\n"
    }
   }
  },
  {
   "cell_type": "code",
   "execution_count": 8,
   "outputs": [],
   "source": [
    "# Setup and connect devices\n",
    "exc_syn_monitor = StateMonitor(con_e, 'w', record=[0, 1])\n",
    "inh_syn_monitor = StateMonitor(con_i, 'w', record=[0, 1])\n",
    "\n",
    "exc_inputs = SpikeMonitor(exc_poisson_input)\n",
    "inh_inputs = SpikeMonitor(inh_poisson_input)\n",
    "\n",
    "neuron_spks = SpikeMonitor(target_neuron)\n",
    "neuron_vms = StateMonitor(target_neuron, 'v', record=[0, 1])"
   ],
   "metadata": {
    "collapsed": false,
    "pycharm": {
     "name": "#%%\n"
    }
   }
  },
  {
   "cell_type": "code",
   "execution_count": 9,
   "outputs": [
    {
     "name": "stderr",
     "output_type": "stream",
     "text": [
      "WARNING    'dt' is an internal variable of group 'poissongroup_1', but also exists in the run namespace with the value 100. * usecond. The internal variable will be used. [brian2.groups.group.Group.resolve.resolution_conflict]\n",
      "WARNING    'dt' is an internal variable of group 'poissongroup', but also exists in the run namespace with the value 100. * usecond. The internal variable will be used. [brian2.groups.group.Group.resolve.resolution_conflict]\n"
     ]
    },
    {
     "name": "stdout",
     "output_type": "stream",
     "text": [
      "Starting simulation at t=0.0 for a duration of 100.0\n",
      "2.8144 s (2%) simulated in 10s, estimated 5m 45s remaining.\n",
      "5.3565 s (5%) simulated in 20s, estimated 5m 53s remaining.\n",
      "7.3986 s (7%) simulated in 30s, estimated 6m 15s remaining.\n",
      "10.9665 s (10%) simulated in 40s, estimated 5m 25s remaining.\n",
      "14.6294 s (14%) simulated in 50s, estimated 4m 52s remaining.\n",
      "18.3268 s (18%) simulated in 1m 0s, estimated 4m 27s remaining.\n",
      "21.909 s (21%) simulated in 1m 10s, estimated 4m 10s remaining.\n",
      "25.6632 s (25%) simulated in 1m 20s, estimated 3m 52s remaining.\n",
      "29.2953 s (29%) simulated in 1m 30s, estimated 3m 37s remaining.\n",
      "33.0414 s (33%) simulated in 1m 40s, estimated 3m 23s remaining.\n",
      "36.7521 s (36%) simulated in 1m 50s, estimated 3m 9s remaining.\n",
      "40.4481 s (40%) simulated in 2m 0s, estimated 2m 57s remaining.\n",
      "44.2612 s (44%) simulated in 2m 10s, estimated 2m 44s remaining.\n",
      "47.8565 s (47%) simulated in 2m 20s, estimated 2m 33s remaining.\n",
      "51.5672 s (51%) simulated in 2m 30s, estimated 2m 21s remaining.\n",
      "55.2941 s (55%) simulated in 2m 40s, estimated 2m 9s remaining.\n",
      "59.0025 s (59%) simulated in 2m 50s, estimated 1m 58s remaining.\n",
      "62.7483 s (62%) simulated in 3m 0s, estimated 1m 47s remaining.\n",
      "66.0801 s (66%) simulated in 3m 10s, estimated 1m 38s remaining.\n",
      "69.6767 s (69%) simulated in 3m 20s, estimated 1m 27s remaining.\n",
      "73.2524 s (73%) simulated in 3m 30s, estimated 1m 17s remaining.\n",
      "76.8622 s (76%) simulated in 3m 40s, estimated 1m 6s remaining.\n",
      "80.6382 s (80%) simulated in 3m 50s, estimated 55s remaining.\n",
      "84.2853 s (84%) simulated in 4m 0s, estimated 45s remaining.\n",
      "88.0802 s (88%) simulated in 4m 10s, estimated 34s remaining.\n",
      "91.5712 s (91%) simulated in 4m 20s, estimated 24s remaining.\n",
      "94.9037 s (94%) simulated in 4m 30s, estimated 14s remaining.\n",
      "98.6785 s (98%) simulated in 4m 40s, estimated 4s remaining.\n",
      "100. s (100%) simulated in 4m 43s\n"
     ]
    }
   ],
   "source": [
    "# run simulation\n",
    "run(100*second, report='text')"
   ],
   "metadata": {
    "collapsed": false,
    "pycharm": {
     "name": "#%%\n"
    }
   }
  },
  {
   "cell_type": "code",
   "execution_count": 10,
   "outputs": [
    {
     "data": {
      "text/plain": "<Figure size 432x288 with 3 Axes>",
      "image/png": "[encoded data removed]"
     },
     "metadata": {
      "needs_background": "light"
     },
     "output_type": "display_data"
    }
   ],
   "source": [
    "subplot(311)\n",
    "plot(con_i.w / gmax, '.k')\n",
    "ylabel('Weight / gmax')\n",
    "xlabel('Synapse index')\n",
    "subplot(312)\n",
    "hist(con_i.w / gmax, 20)\n",
    "xlabel('Weight / gmax')\n",
    "subplot(313)\n",
    "plot(inh_syn_monitor.t/second, inh_syn_monitor.w.T/gmax)\n",
    "xlabel('Time (s)')\n",
    "ylabel('Weight / gmax')\n",
    "tight_layout()\n",
    "show()"
   ],
   "metadata": {
    "collapsed": false,
    "pycharm": {
     "name": "#%%\n"
    }
   }
  },
  {
   "cell_type": "code",
   "execution_count": 10,
   "outputs": [],
   "source": [
    "subplot(311)\n",
    "plot(con_e.w / gmax, '.k')\n",
    "ylabel('Weight / gmax')\n",
    "xlabel('Synapse index')\n",
    "subplot(312)\n",
    "hist(con_e.w / gmax, 20)\n",
    "xlabel('Weight / gmax')\n",
    "subplot(313)\n",
    "plot(exc_syn_monitor.t/second, exc_syn_monitor.w.T/gmax)\n",
    "xlabel('Time (s)')\n",
    "ylabel('Weight / gmax')\n",
    "tight_layout()\n",
    "show()"
   ],
   "metadata": {
    "collapsed": false,
    "pycharm": {
     "name": "#%%\n"
    }
   }
  },
  {
   "cell_type": "code",
   "execution_count": null,
   "outputs": [],
   "source": [],
   "metadata": {
    "collapsed": false,
    "pycharm": {
     "name": "#%%\n"
    }
   }
  }
 ],
 "metadata": {
  "kernelspec": {
   "display_name": "Python 3",
   "language": "python",
   "name": "python3"
  },
  "language_info": {
   "codemirror_mode": {
    "name": "ipython",
    "version": 2
   },
   "file_extension": ".py",
   "mimetype": "text/x-python",
   "name": "python",
   "nbconvert_exporter": "python",
   "pygments_lexer": "ipython2",
   "version": "2.7.6"
  }
 },
 "nbformat": 4,
 "nbformat_minor": 0
}